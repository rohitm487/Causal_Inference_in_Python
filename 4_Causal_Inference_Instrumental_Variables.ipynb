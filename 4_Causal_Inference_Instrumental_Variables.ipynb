{
  "nbformat": 4,
  "nbformat_minor": 0,
  "metadata": {
    "colab": {
      "provenance": [],
      "authorship_tag": "ABX9TyO9725Mx3K2jn9MjkJSZDvT",
      "include_colab_link": true
    },
    "kernelspec": {
      "name": "python3",
      "display_name": "Python 3"
    },
    "language_info": {
      "name": "python"
    }
  },
  "cells": [
    {
      "cell_type": "markdown",
      "metadata": {
        "id": "view-in-github",
        "colab_type": "text"
      },
      "source": [
        "<a href=\"https://colab.research.google.com/github/rohitm487/Causal_Inference_in_Python/blob/main/4_Causal_Inference_Instrumental_Variables.ipynb\" target=\"_parent\"><img src=\"https://colab.research.google.com/assets/colab-badge.svg\" alt=\"Open In Colab\"/></a>"
      ]
    },
    {
      "cell_type": "code",
      "source": [
        "!pip install linearmodels"
      ],
      "metadata": {
        "colab": {
          "base_uri": "https://localhost:8080/"
        },
        "id": "OpEC1XT-7N20",
        "outputId": "17e18439-4686-4cac-92e4-746acb481cc4"
      },
      "execution_count": 2,
      "outputs": [
        {
          "output_type": "stream",
          "name": "stdout",
          "text": [
            "Collecting linearmodels\n",
            "  Downloading linearmodels-6.1-cp310-cp310-manylinux_2_17_x86_64.manylinux2014_x86_64.whl.metadata (7.9 kB)\n",
            "Requirement already satisfied: numpy<3,>=1.22.3 in /usr/local/lib/python3.10/dist-packages (from linearmodels) (1.26.4)\n",
            "Requirement already satisfied: pandas>=1.4.0 in /usr/local/lib/python3.10/dist-packages (from linearmodels) (2.2.2)\n",
            "Requirement already satisfied: scipy>=1.8.0 in /usr/local/lib/python3.10/dist-packages (from linearmodels) (1.13.1)\n",
            "Requirement already satisfied: statsmodels>=0.13.0 in /usr/local/lib/python3.10/dist-packages (from linearmodels) (0.14.4)\n",
            "Collecting mypy-extensions>=0.4 (from linearmodels)\n",
            "  Downloading mypy_extensions-1.0.0-py3-none-any.whl.metadata (1.1 kB)\n",
            "Requirement already satisfied: Cython>=3.0.10 in /usr/local/lib/python3.10/dist-packages (from linearmodels) (3.0.11)\n",
            "Collecting pyhdfe>=0.1 (from linearmodels)\n",
            "  Downloading pyhdfe-0.2.0-py3-none-any.whl.metadata (4.0 kB)\n",
            "Collecting formulaic>=1.0.0 (from linearmodels)\n",
            "  Downloading formulaic-1.0.2-py3-none-any.whl.metadata (6.8 kB)\n",
            "Collecting setuptools-scm<9.0.0,>=8.0.0 (from setuptools-scm[toml]<9.0.0,>=8.0.0->linearmodels)\n",
            "  Downloading setuptools_scm-8.1.0-py3-none-any.whl.metadata (6.6 kB)\n",
            "Collecting interface-meta>=1.2.0 (from formulaic>=1.0.0->linearmodels)\n",
            "  Downloading interface_meta-1.3.0-py3-none-any.whl.metadata (6.7 kB)\n",
            "Requirement already satisfied: typing-extensions>=4.2.0 in /usr/local/lib/python3.10/dist-packages (from formulaic>=1.0.0->linearmodels) (4.12.2)\n",
            "Requirement already satisfied: wrapt>=1.0 in /usr/local/lib/python3.10/dist-packages (from formulaic>=1.0.0->linearmodels) (1.16.0)\n",
            "Requirement already satisfied: python-dateutil>=2.8.2 in /usr/local/lib/python3.10/dist-packages (from pandas>=1.4.0->linearmodels) (2.8.2)\n",
            "Requirement already satisfied: pytz>=2020.1 in /usr/local/lib/python3.10/dist-packages (from pandas>=1.4.0->linearmodels) (2024.2)\n",
            "Requirement already satisfied: tzdata>=2022.7 in /usr/local/lib/python3.10/dist-packages (from pandas>=1.4.0->linearmodels) (2024.2)\n",
            "Requirement already satisfied: packaging>=20 in /usr/local/lib/python3.10/dist-packages (from setuptools-scm<9.0.0,>=8.0.0->setuptools-scm[toml]<9.0.0,>=8.0.0->linearmodels) (24.1)\n",
            "Requirement already satisfied: setuptools in /usr/local/lib/python3.10/dist-packages (from setuptools-scm<9.0.0,>=8.0.0->setuptools-scm[toml]<9.0.0,>=8.0.0->linearmodels) (71.0.4)\n",
            "Requirement already satisfied: tomli>=1 in /usr/local/lib/python3.10/dist-packages (from setuptools-scm<9.0.0,>=8.0.0->setuptools-scm[toml]<9.0.0,>=8.0.0->linearmodels) (2.0.2)\n",
            "Requirement already satisfied: patsy>=0.5.6 in /usr/local/lib/python3.10/dist-packages (from statsmodels>=0.13.0->linearmodels) (0.5.6)\n",
            "Requirement already satisfied: six in /usr/local/lib/python3.10/dist-packages (from patsy>=0.5.6->statsmodels>=0.13.0->linearmodels) (1.16.0)\n",
            "Downloading linearmodels-6.1-cp310-cp310-manylinux_2_17_x86_64.manylinux2014_x86_64.whl (1.7 MB)\n",
            "\u001b[2K   \u001b[90m━━━━━━━━━━━━━━━━━━━━━━━━━━━━━━━━━━━━━━━━\u001b[0m \u001b[32m1.7/1.7 MB\u001b[0m \u001b[31m28.5 MB/s\u001b[0m eta \u001b[36m0:00:00\u001b[0m\n",
            "\u001b[?25hDownloading formulaic-1.0.2-py3-none-any.whl (94 kB)\n",
            "\u001b[2K   \u001b[90m━━━━━━━━━━━━━━━━━━━━━━━━━━━━━━━━━━━━━━━━\u001b[0m \u001b[32m94.5/94.5 kB\u001b[0m \u001b[31m7.0 MB/s\u001b[0m eta \u001b[36m0:00:00\u001b[0m\n",
            "\u001b[?25hDownloading mypy_extensions-1.0.0-py3-none-any.whl (4.7 kB)\n",
            "Downloading pyhdfe-0.2.0-py3-none-any.whl (19 kB)\n",
            "Downloading setuptools_scm-8.1.0-py3-none-any.whl (43 kB)\n",
            "\u001b[2K   \u001b[90m━━━━━━━━━━━━━━━━━━━━━━━━━━━━━━━━━━━━━━━━\u001b[0m \u001b[32m43.7/43.7 kB\u001b[0m \u001b[31m2.8 MB/s\u001b[0m eta \u001b[36m0:00:00\u001b[0m\n",
            "\u001b[?25hDownloading interface_meta-1.3.0-py3-none-any.whl (14 kB)\n",
            "Installing collected packages: setuptools-scm, mypy-extensions, interface-meta, pyhdfe, formulaic, linearmodels\n",
            "Successfully installed formulaic-1.0.2 interface-meta-1.3.0 linearmodels-6.1 mypy-extensions-1.0.0 pyhdfe-0.2.0 setuptools-scm-8.1.0\n"
          ]
        }
      ]
    },
    {
      "cell_type": "code",
      "execution_count": 3,
      "metadata": {
        "colab": {
          "base_uri": "https://localhost:8080/"
        },
        "id": "wOw83lFS3F40",
        "outputId": "5979db25-fd77-4b96-9d12-871510bc6733"
      },
      "outputs": [
        {
          "output_type": "stream",
          "name": "stdout",
          "text": [
            "   Received_Email  Unobs_Motivation  Use_Mobile_App  Retention\n",
            "0               0          0.087047               1          1\n",
            "1               1         -0.299007               1          1\n",
            "2               1          0.091761               1          1\n",
            "3               1         -1.987569               1          0\n",
            "4               0         -0.219672               1          1\n",
            "Use_Mobile_App\n",
            "0   -0.636267\n",
            "1    0.311773\n",
            "Name: Unobs_Motivation, dtype: float64\n",
            "Retention\n",
            "0   -0.964489\n",
            "1    0.373579\n",
            "Name: Unobs_Motivation, dtype: float64\n"
          ]
        }
      ],
      "source": [
        "import numpy as np\n",
        "import pandas as pd\n",
        "import statsmodels.api as sm\n",
        "from statsmodels.formula.api import ols\n",
        "from linearmodels.iv import IV2SLS\n",
        "\n",
        "# Simulate Instrumental Variable dataset\n",
        "def sim_iv_df():\n",
        "    np.random.seed(42)\n",
        "\n",
        "    n = 100\n",
        "    # Instrument: whether the user received an email (Z)\n",
        "    Received_Email = np.random.binomial(1, 0.5, n)\n",
        "\n",
        "    # Unobserved motivation (confounder affecting both X and Y)\n",
        "    Unobs_Motivation = np.random.normal(0, 1, n)\n",
        "\n",
        "    # Use of mobile app (endogenous variable, X), influenced by email and motivation\n",
        "    Use_Mobile_App = (Received_Email + Unobs_Motivation + np.random.normal(0, 0.5, n) > 0).astype(int)\n",
        "\n",
        "    # Retention (dependent variable, Y), affected by app usage and motivation\n",
        "    Retention = (Use_Mobile_App + Unobs_Motivation + np.random.normal(0, 0.5, n) > 0).astype(int)\n",
        "\n",
        "    return pd.DataFrame({\n",
        "        'Received_Email': Received_Email,\n",
        "        'Unobs_Motivation': Unobs_Motivation,\n",
        "        'Use_Mobile_App': Use_Mobile_App,\n",
        "        'Retention': Retention\n",
        "    })\n",
        "\n",
        "# Generate the dataset\n",
        "dat = sim_iv_df()\n",
        "\n",
        "# Explore the dataset\n",
        "print(dat.head())\n",
        "\n",
        "# Check for endogeneity bias by looking at the relationship between motivation and app usage/retention\n",
        "print(dat.groupby('Use_Mobile_App')['Unobs_Motivation'].mean())\n",
        "print(dat.groupby('Retention')['Unobs_Motivation'].mean())\n"
      ]
    },
    {
      "cell_type": "code",
      "source": [
        "# Naive regression (ignoring endogeneity)\n",
        "model1 = ols('Retention ~ Use_Mobile_App', data=dat).fit()\n",
        "print(model1.summary())\n"
      ],
      "metadata": {
        "colab": {
          "base_uri": "https://localhost:8080/"
        },
        "id": "dyGsySeE7GbL",
        "outputId": "ddd13a0f-2a8f-4f7d-f91e-88a2b5361c9c"
      },
      "execution_count": 4,
      "outputs": [
        {
          "output_type": "stream",
          "name": "stdout",
          "text": [
            "                            OLS Regression Results                            \n",
            "==============================================================================\n",
            "Dep. Variable:              Retention   R-squared:                       0.489\n",
            "Model:                            OLS   Adj. R-squared:                  0.484\n",
            "Method:                 Least Squares   F-statistic:                     93.69\n",
            "Date:                Fri, 11 Oct 2024   Prob (F-statistic):           6.01e-16\n",
            "Time:                        09:33:39   Log-Likelihood:                -28.275\n",
            "No. Observations:                 100   AIC:                             60.55\n",
            "Df Residuals:                      98   BIC:                             65.76\n",
            "Df Model:                           1                                         \n",
            "Covariance Type:            nonrobust                                         \n",
            "==================================================================================\n",
            "                     coef    std err          t      P>|t|      [0.025      0.975]\n",
            "----------------------------------------------------------------------------------\n",
            "Intercept          0.2727      0.056      4.831      0.000       0.161       0.385\n",
            "Use_Mobile_App     0.6676      0.069      9.679      0.000       0.531       0.804\n",
            "==============================================================================\n",
            "Omnibus:                       10.103   Durbin-Watson:                   2.156\n",
            "Prob(Omnibus):                  0.006   Jarque-Bera (JB):               24.973\n",
            "Skew:                          -0.102   Prob(JB):                     3.78e-06\n",
            "Kurtosis:                       5.440   Cond. No.                         3.24\n",
            "==============================================================================\n",
            "\n",
            "Notes:\n",
            "[1] Standard Errors assume that the covariance matrix of the errors is correctly specified.\n"
          ]
        }
      ]
    },
    {
      "cell_type": "markdown",
      "source": [
        "## This stage predicts `Use.Mobile.App` using the instrumental variable `Received.Email`"
      ],
      "metadata": {
        "id": "3aXCnUXq7pRa"
      }
    },
    {
      "cell_type": "code",
      "source": [
        "# First-stage regression: Use.Mobile.App ~ Received.Email\n",
        "model2 = ols('Use_Mobile_App ~ Received_Email', data=dat).fit()\n",
        "print(model2.summary())\n"
      ],
      "metadata": {
        "colab": {
          "base_uri": "https://localhost:8080/"
        },
        "id": "h5DtaVB77Tpy",
        "outputId": "445029ce-8ede-4d43-f7ee-4c9e27925eb2"
      },
      "execution_count": 5,
      "outputs": [
        {
          "output_type": "stream",
          "name": "stdout",
          "text": [
            "                            OLS Regression Results                            \n",
            "==============================================================================\n",
            "Dep. Variable:         Use_Mobile_App   R-squared:                       0.131\n",
            "Model:                            OLS   Adj. R-squared:                  0.123\n",
            "Method:                 Least Squares   F-statistic:                     14.84\n",
            "Date:                Fri, 11 Oct 2024   Prob (F-statistic):           0.000209\n",
            "Time:                        09:34:08   Log-Likelihood:                -59.388\n",
            "No. Observations:                 100   AIC:                             122.8\n",
            "Df Residuals:                      98   BIC:                             128.0\n",
            "Df Model:                           1                                         \n",
            "Covariance Type:            nonrobust                                         \n",
            "==================================================================================\n",
            "                     coef    std err          t      P>|t|      [0.025      0.975]\n",
            "----------------------------------------------------------------------------------\n",
            "Intercept          0.5094      0.061      8.378      0.000       0.389       0.630\n",
            "Received_Email     0.3416      0.089      3.852      0.000       0.166       0.518\n",
            "==============================================================================\n",
            "Omnibus:                       26.170   Durbin-Watson:                   2.278\n",
            "Prob(Omnibus):                  0.000   Jarque-Bera (JB):                9.665\n",
            "Skew:                          -0.527   Prob(JB):                      0.00797\n",
            "Kurtosis:                       1.900   Cond. No.                         2.55\n",
            "==============================================================================\n",
            "\n",
            "Notes:\n",
            "[1] Standard Errors assume that the covariance matrix of the errors is correctly specified.\n"
          ]
        }
      ]
    },
    {
      "cell_type": "markdown",
      "source": [
        "## We use the predicted values `(Use_Mobile_App_Hat)` from the first stage to predict retention, addressing the endogeneity."
      ],
      "metadata": {
        "id": "SzHiezRt70HR"
      }
    },
    {
      "cell_type": "code",
      "source": [
        "# Create the predicted value from the first-stage regression (Use_Mobile_App_Hat)\n",
        "dat['Use_Mobile_App_Hat'] = model2.predict(dat['Received_Email'])\n",
        "\n",
        "# Second-stage regression: Retention ~ Use_Mobile_App_Hat\n",
        "model3 = ols('Retention ~ Use_Mobile_App_Hat', data=dat).fit()\n",
        "print(model3.summary())\n"
      ],
      "metadata": {
        "colab": {
          "base_uri": "https://localhost:8080/"
        },
        "id": "Ei_r0JZ_8LxS",
        "outputId": "7d3ffe02-1b58-43e0-8243-122baff652e0"
      },
      "execution_count": 8,
      "outputs": [
        {
          "output_type": "stream",
          "name": "stdout",
          "text": [
            "                            OLS Regression Results                            \n",
            "==============================================================================\n",
            "Dep. Variable:              Retention   R-squared:                       0.009\n",
            "Model:                            OLS   Adj. R-squared:                 -0.001\n",
            "Method:                 Least Squares   F-statistic:                    0.9190\n",
            "Date:                Fri, 11 Oct 2024   Prob (F-statistic):              0.340\n",
            "Time:                        09:39:12   Log-Likelihood:                -61.354\n",
            "No. Observations:                 100   AIC:                             126.7\n",
            "Df Residuals:                      98   BIC:                             131.9\n",
            "Df Model:                           1                                         \n",
            "Covariance Type:            nonrobust                                         \n",
            "======================================================================================\n",
            "                         coef    std err          t      P>|t|      [0.025      0.975]\n",
            "--------------------------------------------------------------------------------------\n",
            "Intercept              0.5499      0.183      3.004      0.003       0.187       0.913\n",
            "Use_Mobile_App_Hat     0.2538      0.265      0.959      0.340      -0.272       0.779\n",
            "==============================================================================\n",
            "Omnibus:                       28.597   Durbin-Watson:                   2.351\n",
            "Prob(Omnibus):                  0.000   Jarque-Bera (JB):               19.892\n",
            "Skew:                          -0.966   Prob(JB):                     4.79e-05\n",
            "Kurtosis:                       1.979   Cond. No.                         8.55\n",
            "==============================================================================\n",
            "\n",
            "Notes:\n",
            "[1] Standard Errors assume that the covariance matrix of the errors is correctly specified.\n"
          ]
        }
      ]
    },
    {
      "cell_type": "markdown",
      "source": [
        "# Two-Stage Least Squares (2SLS):\n",
        "The two-stage least squares (2SLS) model automatically performs both stages of the IV estimation in one step."
      ],
      "metadata": {
        "id": "-PmYZ3Lr8Cw6"
      }
    },
    {
      "cell_type": "code",
      "source": [
        "# Two-stage least squares (2SLS) for IV estimation\n",
        "iv_model = IV2SLS.from_formula('Retention ~ 1 + [Use_Mobile_App ~ Received_Email]', data=dat).fit()\n",
        "print(iv_model.summary)\n"
      ],
      "metadata": {
        "colab": {
          "base_uri": "https://localhost:8080/"
        },
        "id": "G0LZZ9fY7agC",
        "outputId": "c12d1dea-16bb-4f66-9b73-aaf85c49f3b0"
      },
      "execution_count": 6,
      "outputs": [
        {
          "output_type": "stream",
          "name": "stdout",
          "text": [
            "                          IV-2SLS Estimation Summary                          \n",
            "==============================================================================\n",
            "Dep. Variable:              Retention   R-squared:                      0.3010\n",
            "Estimator:                    IV-2SLS   Adj. R-squared:                 0.2939\n",
            "No. Observations:                 100   F-statistic:                    1.3414\n",
            "Date:                Fri, Oct 11 2024   P-value (F-stat)                0.2468\n",
            "Time:                        09:37:11   Distribution:                  chi2(1)\n",
            "Cov. Estimator:                robust                                         \n",
            "                                                                              \n",
            "                               Parameter Estimates                                \n",
            "==================================================================================\n",
            "                Parameter  Std. Err.     T-stat    P-value    Lower CI    Upper CI\n",
            "----------------------------------------------------------------------------------\n",
            "Intercept          0.5499     0.1543     3.5639     0.0004      0.2475      0.8524\n",
            "Use_Mobile_App     0.2538     0.2192     1.1582     0.2468     -0.1757      0.6833\n",
            "==================================================================================\n",
            "\n",
            "Endogenous: Use_Mobile_App\n",
            "Instruments: Received_Email\n",
            "Robust Covariance (Heteroskedastic)\n",
            "Debiased: False\n"
          ]
        }
      ]
    },
    {
      "cell_type": "code",
      "source": [
        "# Compare all models (summary of results)\n",
        "print(\"Naive Regression:\")\n",
        "print(model1.summary())\n",
        "\n",
        "print(\"\\nFirst-Stage Regression:\")\n",
        "print(model2.summary())\n",
        "\n",
        "print(\"\\nSecond-Stage Regression:\")\n",
        "print(model3.summary())\n",
        "\n",
        "print(\"\\nTwo-Stage Least Squares (IV) Model:\")\n",
        "print(iv_model.summary)\n"
      ],
      "metadata": {
        "colab": {
          "base_uri": "https://localhost:8080/"
        },
        "id": "3SfY_V6o8HNq",
        "outputId": "1e44a99e-6780-4fc7-ee15-c61029d88573"
      },
      "execution_count": 9,
      "outputs": [
        {
          "output_type": "stream",
          "name": "stdout",
          "text": [
            "Naive Regression:\n",
            "                            OLS Regression Results                            \n",
            "==============================================================================\n",
            "Dep. Variable:              Retention   R-squared:                       0.489\n",
            "Model:                            OLS   Adj. R-squared:                  0.484\n",
            "Method:                 Least Squares   F-statistic:                     93.69\n",
            "Date:                Fri, 11 Oct 2024   Prob (F-statistic):           6.01e-16\n",
            "Time:                        09:39:25   Log-Likelihood:                -28.275\n",
            "No. Observations:                 100   AIC:                             60.55\n",
            "Df Residuals:                      98   BIC:                             65.76\n",
            "Df Model:                           1                                         \n",
            "Covariance Type:            nonrobust                                         \n",
            "==================================================================================\n",
            "                     coef    std err          t      P>|t|      [0.025      0.975]\n",
            "----------------------------------------------------------------------------------\n",
            "Intercept          0.2727      0.056      4.831      0.000       0.161       0.385\n",
            "Use_Mobile_App     0.6676      0.069      9.679      0.000       0.531       0.804\n",
            "==============================================================================\n",
            "Omnibus:                       10.103   Durbin-Watson:                   2.156\n",
            "Prob(Omnibus):                  0.006   Jarque-Bera (JB):               24.973\n",
            "Skew:                          -0.102   Prob(JB):                     3.78e-06\n",
            "Kurtosis:                       5.440   Cond. No.                         3.24\n",
            "==============================================================================\n",
            "\n",
            "Notes:\n",
            "[1] Standard Errors assume that the covariance matrix of the errors is correctly specified.\n",
            "\n",
            "First-Stage Regression:\n",
            "                            OLS Regression Results                            \n",
            "==============================================================================\n",
            "Dep. Variable:         Use_Mobile_App   R-squared:                       0.131\n",
            "Model:                            OLS   Adj. R-squared:                  0.123\n",
            "Method:                 Least Squares   F-statistic:                     14.84\n",
            "Date:                Fri, 11 Oct 2024   Prob (F-statistic):           0.000209\n",
            "Time:                        09:39:25   Log-Likelihood:                -59.388\n",
            "No. Observations:                 100   AIC:                             122.8\n",
            "Df Residuals:                      98   BIC:                             128.0\n",
            "Df Model:                           1                                         \n",
            "Covariance Type:            nonrobust                                         \n",
            "==================================================================================\n",
            "                     coef    std err          t      P>|t|      [0.025      0.975]\n",
            "----------------------------------------------------------------------------------\n",
            "Intercept          0.5094      0.061      8.378      0.000       0.389       0.630\n",
            "Received_Email     0.3416      0.089      3.852      0.000       0.166       0.518\n",
            "==============================================================================\n",
            "Omnibus:                       26.170   Durbin-Watson:                   2.278\n",
            "Prob(Omnibus):                  0.000   Jarque-Bera (JB):                9.665\n",
            "Skew:                          -0.527   Prob(JB):                      0.00797\n",
            "Kurtosis:                       1.900   Cond. No.                         2.55\n",
            "==============================================================================\n",
            "\n",
            "Notes:\n",
            "[1] Standard Errors assume that the covariance matrix of the errors is correctly specified.\n",
            "\n",
            "Second-Stage Regression:\n",
            "                            OLS Regression Results                            \n",
            "==============================================================================\n",
            "Dep. Variable:              Retention   R-squared:                       0.009\n",
            "Model:                            OLS   Adj. R-squared:                 -0.001\n",
            "Method:                 Least Squares   F-statistic:                    0.9190\n",
            "Date:                Fri, 11 Oct 2024   Prob (F-statistic):              0.340\n",
            "Time:                        09:39:25   Log-Likelihood:                -61.354\n",
            "No. Observations:                 100   AIC:                             126.7\n",
            "Df Residuals:                      98   BIC:                             131.9\n",
            "Df Model:                           1                                         \n",
            "Covariance Type:            nonrobust                                         \n",
            "======================================================================================\n",
            "                         coef    std err          t      P>|t|      [0.025      0.975]\n",
            "--------------------------------------------------------------------------------------\n",
            "Intercept              0.5499      0.183      3.004      0.003       0.187       0.913\n",
            "Use_Mobile_App_Hat     0.2538      0.265      0.959      0.340      -0.272       0.779\n",
            "==============================================================================\n",
            "Omnibus:                       28.597   Durbin-Watson:                   2.351\n",
            "Prob(Omnibus):                  0.000   Jarque-Bera (JB):               19.892\n",
            "Skew:                          -0.966   Prob(JB):                     4.79e-05\n",
            "Kurtosis:                       1.979   Cond. No.                         8.55\n",
            "==============================================================================\n",
            "\n",
            "Notes:\n",
            "[1] Standard Errors assume that the covariance matrix of the errors is correctly specified.\n",
            "\n",
            "Two-Stage Least Squares (IV) Model:\n",
            "                          IV-2SLS Estimation Summary                          \n",
            "==============================================================================\n",
            "Dep. Variable:              Retention   R-squared:                      0.3010\n",
            "Estimator:                    IV-2SLS   Adj. R-squared:                 0.2939\n",
            "No. Observations:                 100   F-statistic:                    1.3414\n",
            "Date:                Fri, Oct 11 2024   P-value (F-stat)                0.2468\n",
            "Time:                        09:37:11   Distribution:                  chi2(1)\n",
            "Cov. Estimator:                robust                                         \n",
            "                                                                              \n",
            "                               Parameter Estimates                                \n",
            "==================================================================================\n",
            "                Parameter  Std. Err.     T-stat    P-value    Lower CI    Upper CI\n",
            "----------------------------------------------------------------------------------\n",
            "Intercept          0.5499     0.1543     3.5639     0.0004      0.2475      0.8524\n",
            "Use_Mobile_App     0.2538     0.2192     1.1582     0.2468     -0.1757      0.6833\n",
            "==================================================================================\n",
            "\n",
            "Endogenous: Use_Mobile_App\n",
            "Instruments: Received_Email\n",
            "Robust Covariance (Heteroskedastic)\n",
            "Debiased: False\n"
          ]
        }
      ]
    },
    {
      "cell_type": "code",
      "source": [],
      "metadata": {
        "id": "c6YbLmMe8Jl5"
      },
      "execution_count": null,
      "outputs": []
    }
  ]
}