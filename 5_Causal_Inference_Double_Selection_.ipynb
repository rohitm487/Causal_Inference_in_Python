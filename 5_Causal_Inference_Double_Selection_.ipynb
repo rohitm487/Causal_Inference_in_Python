{
  "nbformat": 4,
  "nbformat_minor": 0,
  "metadata": {
    "colab": {
      "provenance": [],
      "authorship_tag": "ABX9TyOKq55cA8T+lVszYS38FrUw",
      "include_colab_link": true
    },
    "kernelspec": {
      "name": "python3",
      "display_name": "Python 3"
    },
    "language_info": {
      "name": "python"
    }
  },
  "cells": [
    {
      "cell_type": "markdown",
      "metadata": {
        "id": "view-in-github",
        "colab_type": "text"
      },
      "source": [
        "<a href=\"https://colab.research.google.com/github/rohitm487/Causal_Inference_in_Python/blob/main/5_Causal_Inference_Double_Selection_.ipynb\" target=\"_parent\"><img src=\"https://colab.research.google.com/assets/colab-badge.svg\" alt=\"Open In Colab\"/></a>"
      ]
    },
    {
      "cell_type": "markdown",
      "source": [
        "## **Lasso Regression:** We fit two separate Lasso models:\n",
        "\n",
        "## Outcome on control variables.\n",
        "\n",
        "- Treatment on control variables.\n",
        "\n",
        "This helps us select the control variables that are most predictive of the outcome and the treatment.\n",
        "\n",
        "**Combining Non-Zero Coefficients:** The selected features from both *Lasso regressions (with non-zero coefficients)* are combined for the final regression model.\n",
        "\n",
        "**Final Regression (Double Selection):** Using the selected features and the treatment indicator, we fit the final regression model.\n",
        "\n",
        "**Comparing Models:** We compare the results of the naive model (only treatment), the full model (all control variables and treatment), and the double selection model (selected control variables and treatment).\n",
        "\n"
      ],
      "metadata": {
        "id": "T6VPYrLqjxxa"
      }
    },
    {
      "cell_type": "code",
      "execution_count": 3,
      "metadata": {
        "id": "ieIst2slAu_v"
      },
      "outputs": [],
      "source": [
        "import numpy as np\n",
        "import pandas as pd\n",
        "from sklearn.linear_model import LassoCV\n",
        "from sklearn.model_selection import train_test_split\n",
        "import statsmodels.api as sm\n",
        "\n",
        "# Step 1: Simulate Data (Alternatively, load your dataset)\n",
        "def simulate_data(n=1000, p=20):\n",
        "    np.random.seed(0)\n",
        "    X = np.random.randn(n, p)  # control variables\n",
        "    treatment = np.random.binomial(1, 0.5, size=n)  # binary treatment variable\n",
        "    # Outcome variable with some causal effect of the treatment and noise\n",
        "    outcome = 2 * treatment + np.dot(X, np.random.randn(p)) + np.random.randn(n)\n",
        "    return pd.DataFrame(X, columns=[f'X{i}' for i in range(p)]), pd.Series(treatment, name=\"Treatment\"), pd.Series(outcome, name=\"Outcome\")\n",
        "\n",
        "X, treatment, outcome = simulate_data()\n"
      ]
    },
    {
      "cell_type": "code",
      "source": [
        "\n",
        "# Step 2: Fit Lasso Regression (Outcome ~ Control Variables)\n",
        "lasso_outcome = LassoCV(cv=5).fit(X, outcome)\n",
        "nonzero_outcome = np.where(lasso_outcome.coef_ != 0)[0]  # non-zero coefficients\n"
      ],
      "metadata": {
        "id": "EoM76FVYjUqC"
      },
      "execution_count": 4,
      "outputs": []
    },
    {
      "cell_type": "code",
      "source": [
        "\n",
        "# Step 3: Fit Lasso Regression (Treatment ~ Control Variables)\n",
        "lasso_treatment = LassoCV(cv=5).fit(X, treatment)\n",
        "nonzero_treatment = np.where(lasso_treatment.coef_ != 0)[0]  # non-zero coefficients\n"
      ],
      "metadata": {
        "id": "5NYo09XSjYRZ"
      },
      "execution_count": 5,
      "outputs": []
    },
    {
      "cell_type": "code",
      "source": [
        "\n",
        "# Step 4: Combine non-zero coefficients from both models\n",
        "selected_features = np.union1d(nonzero_outcome, nonzero_treatment)\n",
        "X_selected = X.iloc[:, selected_features]\n"
      ],
      "metadata": {
        "id": "ro_XysSTjbir"
      },
      "execution_count": 6,
      "outputs": []
    },
    {
      "cell_type": "code",
      "source": [
        "\n",
        "# Step 5: Fit final regression (Double Selection)\n",
        "X_double_selection = sm.add_constant(pd.concat([X_selected, treatment], axis=1))\n",
        "double_selection_model = sm.OLS(outcome, X_double_selection).fit()\n"
      ],
      "metadata": {
        "id": "6xQPxB2bjdDj"
      },
      "execution_count": 7,
      "outputs": []
    },
    {
      "cell_type": "code",
      "source": [
        "\n",
        "# Step 6: Fit Naive and Full Models for comparison\n",
        "# Naive regression: Outcome ~ Treatment\n",
        "X_naive = sm.add_constant(treatment)\n",
        "naive_model = sm.OLS(outcome, X_naive).fit()\n"
      ],
      "metadata": {
        "id": "BnkAKD03jegM"
      },
      "execution_count": 8,
      "outputs": []
    },
    {
      "cell_type": "code",
      "source": [
        "\n",
        "# Full Model: Outcome ~ All Control Variables + Treatment\n",
        "X_full = sm.add_constant(pd.concat([X, treatment], axis=1))\n",
        "full_model = sm.OLS(outcome, X_full).fit()\n"
      ],
      "metadata": {
        "id": "q51QCxdPjf7B"
      },
      "execution_count": 9,
      "outputs": []
    },
    {
      "cell_type": "code",
      "source": [
        "\n",
        "# Step 7: Compare Models\n",
        "print(\"Naive Model:\")\n",
        "print(naive_model.summary())\n",
        "\n",
        "print(\"\\nFull Model:\")\n",
        "print(full_model.summary())\n",
        "\n",
        "print(\"\\nDouble Selection Model:\")\n",
        "print(double_selection_model.summary())\n"
      ],
      "metadata": {
        "colab": {
          "base_uri": "https://localhost:8080/"
        },
        "id": "Nr7Kx4nyjhXA",
        "outputId": "3b71aafc-b063-4943-de4e-6ea7437bea0d"
      },
      "execution_count": 10,
      "outputs": [
        {
          "output_type": "stream",
          "name": "stdout",
          "text": [
            "Naive Model:\n",
            "                            OLS Regression Results                            \n",
            "==============================================================================\n",
            "Dep. Variable:                Outcome   R-squared:                       0.064\n",
            "Model:                            OLS   Adj. R-squared:                  0.063\n",
            "Method:                 Least Squares   F-statistic:                     67.89\n",
            "Date:                Fri, 11 Oct 2024   Prob (F-statistic):           5.40e-16\n",
            "Time:                        17:09:26   Log-Likelihood:                -2910.9\n",
            "No. Observations:                1000   AIC:                             5826.\n",
            "Df Residuals:                     998   BIC:                             5836.\n",
            "Df Model:                           1                                         \n",
            "Covariance Type:            nonrobust                                         \n",
            "==============================================================================\n",
            "                 coef    std err          t      P>|t|      [0.025      0.975]\n",
            "------------------------------------------------------------------------------\n",
            "const         -0.3314      0.202     -1.638      0.102      -0.728       0.066\n",
            "Treatment      2.3202      0.282      8.239      0.000       1.768       2.873\n",
            "==============================================================================\n",
            "Omnibus:                        0.060   Durbin-Watson:                   2.110\n",
            "Prob(Omnibus):                  0.970   Jarque-Bera (JB):                0.097\n",
            "Skew:                          -0.016   Prob(JB):                        0.953\n",
            "Kurtosis:                       2.965   Cond. No.                         2.66\n",
            "==============================================================================\n",
            "\n",
            "Notes:\n",
            "[1] Standard Errors assume that the covariance matrix of the errors is correctly specified.\n",
            "\n",
            "Full Model:\n",
            "                            OLS Regression Results                            \n",
            "==============================================================================\n",
            "Dep. Variable:                Outcome   R-squared:                       0.957\n",
            "Model:                            OLS   Adj. R-squared:                  0.956\n",
            "Method:                 Least Squares   F-statistic:                     1045.\n",
            "Date:                Fri, 11 Oct 2024   Prob (F-statistic):               0.00\n",
            "Time:                        17:09:26   Log-Likelihood:                -1366.7\n",
            "No. Observations:                1000   AIC:                             2777.\n",
            "Df Residuals:                     978   BIC:                             2885.\n",
            "Df Model:                          21                                         \n",
            "Covariance Type:            nonrobust                                         \n",
            "==============================================================================\n",
            "                 coef    std err          t      P>|t|      [0.025      0.975]\n",
            "------------------------------------------------------------------------------\n",
            "const          0.0584      0.044      1.331      0.184      -0.028       0.144\n",
            "X0            -0.9237      0.030    -30.657      0.000      -0.983      -0.865\n",
            "X1            -1.8451      0.031    -59.200      0.000      -1.906      -1.784\n",
            "X2            -0.8985      0.030    -29.614      0.000      -0.958      -0.839\n",
            "X3             0.2787      0.031      8.867      0.000       0.217       0.340\n",
            "X4             1.9121      0.032     58.961      0.000       1.848       1.976\n",
            "X5            -0.1500      0.030     -4.964      0.000      -0.209      -0.091\n",
            "X6            -0.5444      0.031    -17.527      0.000      -0.605      -0.483\n",
            "X7            -1.6047      0.030    -52.787      0.000      -1.664      -1.545\n",
            "X8             0.0514      0.030      1.736      0.083      -0.007       0.110\n",
            "X9            -0.9263      0.031    -29.810      0.000      -0.987      -0.865\n",
            "X10           -0.1881      0.030     -6.220      0.000      -0.247      -0.129\n",
            "X11           -0.4507      0.030    -14.793      0.000      -0.510      -0.391\n",
            "X12           -0.6207      0.031    -19.828      0.000      -0.682      -0.559\n",
            "X13           -0.8005      0.032    -25.108      0.000      -0.863      -0.738\n",
            "X14            1.2910      0.031     41.683      0.000       1.230       1.352\n",
            "X15           -1.1034      0.032    -34.432      0.000      -1.166      -1.041\n",
            "X16           -0.0217      0.032     -0.684      0.494      -0.084       0.041\n",
            "X17           -0.6331      0.032    -20.061      0.000      -0.695      -0.571\n",
            "X18           -0.7068      0.030    -23.228      0.000      -0.767      -0.647\n",
            "X19            1.4445      0.031     45.923      0.000       1.383       1.506\n",
            "Treatment      1.9716      0.061     32.342      0.000       1.852       2.091\n",
            "==============================================================================\n",
            "Omnibus:                        4.294   Durbin-Watson:                   1.982\n",
            "Prob(Omnibus):                  0.117   Jarque-Bera (JB):                4.226\n",
            "Skew:                          -0.129   Prob(JB):                        0.121\n",
            "Kurtosis:                       2.814   Cond. No.                         2.74\n",
            "==============================================================================\n",
            "\n",
            "Notes:\n",
            "[1] Standard Errors assume that the covariance matrix of the errors is correctly specified.\n",
            "\n",
            "Double Selection Model:\n",
            "                            OLS Regression Results                            \n",
            "==============================================================================\n",
            "Dep. Variable:                Outcome   R-squared:                       0.957\n",
            "Model:                            OLS   Adj. R-squared:                  0.956\n",
            "Method:                 Least Squares   F-statistic:                     1097.\n",
            "Date:                Fri, 11 Oct 2024   Prob (F-statistic):               0.00\n",
            "Time:                        17:09:26   Log-Likelihood:                -1367.0\n",
            "No. Observations:                1000   AIC:                             2776.\n",
            "Df Residuals:                     979   BIC:                             2879.\n",
            "Df Model:                          20                                         \n",
            "Covariance Type:            nonrobust                                         \n",
            "==============================================================================\n",
            "                 coef    std err          t      P>|t|      [0.025      0.975]\n",
            "------------------------------------------------------------------------------\n",
            "const          0.0584      0.044      1.332      0.183      -0.028       0.145\n",
            "X0            -0.9243      0.030    -30.700      0.000      -0.983      -0.865\n",
            "X1            -1.8446      0.031    -59.216      0.000      -1.906      -1.783\n",
            "X2            -0.8991      0.030    -29.658      0.000      -0.959      -0.840\n",
            "X3             0.2786      0.031      8.866      0.000       0.217       0.340\n",
            "X4             1.9124      0.032     58.991      0.000       1.849       1.976\n",
            "X5            -0.1508      0.030     -4.998      0.000      -0.210      -0.092\n",
            "X6            -0.5440      0.031    -17.522      0.000      -0.605      -0.483\n",
            "X7            -1.6050      0.030    -52.823      0.000      -1.665      -1.545\n",
            "X8             0.0511      0.030      1.727      0.084      -0.007       0.109\n",
            "X9            -0.9269      0.031    -29.850      0.000      -0.988      -0.866\n",
            "X10           -0.1888      0.030     -6.251      0.000      -0.248      -0.130\n",
            "X11           -0.4508      0.030    -14.802      0.000      -0.511      -0.391\n",
            "X12           -0.6197      0.031    -19.822      0.000      -0.681      -0.558\n",
            "X13           -0.7987      0.032    -25.143      0.000      -0.861      -0.736\n",
            "X14            1.2901      0.031     41.706      0.000       1.229       1.351\n",
            "X15           -1.1034      0.032    -34.440      0.000      -1.166      -1.041\n",
            "X17           -0.6327      0.032    -20.057      0.000      -0.695      -0.571\n",
            "X18           -0.7075      0.030    -23.267      0.000      -0.767      -0.648\n",
            "X19            1.4444      0.031     45.932      0.000       1.383       1.506\n",
            "Treatment      1.9706      0.061     32.344      0.000       1.851       2.090\n",
            "==============================================================================\n",
            "Omnibus:                        4.150   Durbin-Watson:                   1.986\n",
            "Prob(Omnibus):                  0.126   Jarque-Bera (JB):                4.101\n",
            "Skew:                          -0.128   Prob(JB):                        0.129\n",
            "Kurtosis:                       2.820   Cond. No.                         2.73\n",
            "==============================================================================\n",
            "\n",
            "Notes:\n",
            "[1] Standard Errors assume that the covariance matrix of the errors is correctly specified.\n"
          ]
        }
      ]
    },
    {
      "cell_type": "code",
      "source": [],
      "metadata": {
        "id": "MTV1saXojnzS"
      },
      "execution_count": null,
      "outputs": []
    }
  ]
}